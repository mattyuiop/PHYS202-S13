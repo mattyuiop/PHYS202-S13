{
 "metadata": {
  "name": "DatIO"
 },
 "nbformat": 3,
 "nbformat_minor": 0,
 "worksheets": [
  {
   "cells": [
    {
     "cell_type": "code",
     "collapsed": false,
     "input": [
      "t = arange(0,1,.1)\n",
      "v = array([0.137, 0.456,0.591,0.713, 0.859, 0.926, 1.139, 1.327, 1.512, 1.875 ])\n",
      "size(append(append([],v),t))"
     ],
     "language": "python",
     "metadata": {},
     "outputs": [
      {
       "output_type": "pyout",
       "prompt_number": 2,
       "text": [
        "20"
       ]
      }
     ],
     "prompt_number": 2
    },
    {
     "cell_type": "code",
     "collapsed": false,
     "input": [
      "p = [.15 + .1*i for i in v]\n",
      "savetxt('output.dat',(t,p))"
     ],
     "language": "python",
     "metadata": {},
     "outputs": [],
     "prompt_number": 3
    },
    {
     "cell_type": "code",
     "collapsed": false,
     "input": [
      "(t,p)"
     ],
     "language": "python",
     "metadata": {},
     "outputs": [
      {
       "output_type": "pyout",
       "prompt_number": 4,
       "text": [
        "(array([ 0. ,  0.1,  0.2,  0.3,  0.4,  0.5,  0.6,  0.7,  0.8,  0.9]),\n",
        " [0.16369999999999998,\n",
        "  0.1956,\n",
        "  0.20910000000000001,\n",
        "  0.2213,\n",
        "  0.2359,\n",
        "  0.24260000000000001,\n",
        "  0.26390000000000002,\n",
        "  0.28270000000000001,\n",
        "  0.30120000000000002,\n",
        "  0.33750000000000002])"
       ]
      }
     ],
     "prompt_number": 4
    },
    {
     "cell_type": "code",
     "collapsed": false,
     "input": [
      "DataOut = column_stack((t,p))\n",
      "savetxt('outputfrmated.dat', DataOut, fmt = '%5f')\n"
     ],
     "language": "python",
     "metadata": {},
     "outputs": [],
     "prompt_number": 8
    },
    {
     "cell_type": "code",
     "collapsed": false,
     "input": [
      "f = open('output.dat', \"w\")\n",
      "f.write('#My comment Line this file, followed by a blank line, then the data \\n\\n')\n",
      "savetxt(f, DataOut, fmt = ('%3f', '%4.3f'))\n",
      "f.close()"
     ],
     "language": "python",
     "metadata": {},
     "outputs": [],
     "prompt_number": 10
    },
    {
     "cell_type": "code",
     "collapsed": false,
     "input": [
      "t = [ i + 1 for i in range(10)]\n",
      "t = range(1,11)\n",
      "m = array([7.75, 7.33, 6.89, 6.45, 5.96, 5.55, 5.10, 4.49, 3.93, 3.58])\n",
      "uncertanty = array([ 0.02,0.03, 0.03,0.04 , .05, .06, .08, .11, .14,.17])\n",
      "\n",
      "DataOutput = column_stack((t,m,uncertanty))\n",
      "savetxt('NewOutput.dat', DataOutput, fmt = '%5f')\n",
      "\n",
      "savetxt('NewOutput.csv', DataOutput,delimiter = ',',  fmt = '%5f')"
     ],
     "language": "python",
     "metadata": {},
     "outputs": [],
     "prompt_number": 19
    },
    {
     "cell_type": "markdown",
     "metadata": {},
     "source": [
      "##Exercise 2"
     ]
    },
    {
     "cell_type": "code",
     "collapsed": false,
     "input": [
      "def LinearLeastSquaresFit(x,y):\n",
      "    \"takes two arraysand fits linear fit:: x@ y = mx + b\"\n",
      "    \n",
      "    xav,yav = mean(x),mean(y)   \n",
      "    xy = [x[i]*y[i] for i in range(len(x))]\n",
      "    xyav = mean(xy)\n",
      "    \n",
      "    xsqav = sum([x[i]**2 for i in range(len(x))] )/(len(x))\n",
      "    \n",
      "    slope = m = (xyav - xav*yav)/(xsqav - xav**2)\n",
      "    intercept = b = (xsqav*yav - xav*xyav)/(xsqav - xav**2)\n",
      "    \n",
      "    delta = [y[i] - m*x[i] - b for i in range(len(x))]\n",
      "    deltasq = [i**2 for i in delta]\n",
      "    coef = (-2+len(delta))**-1 \n",
      "    sigmay = (sum(deltasq)* coef)**.5\n",
      "    \n",
      "    slerr = ((coef * mean(deltasq) )/(xsqav - xav**2))**0.5\n",
      "    interr = (coef * mean(deltasq)*xsqav)/(xsqav - xav**2)\n",
      "    \n",
      "    return slope, intercept, slerr, interr"
     ],
     "language": "python",
     "metadata": {},
     "outputs": [],
     "prompt_number": 3
    },
    {
     "cell_type": "code",
     "collapsed": false,
     "input": [
      "h = loadtxt('NewOutput.dat')\n",
      "\n",
      "m ,b, delm, delb = LinearLeastSquaresFit(h[:,0],h[:,1])\n",
      "f = lambda x: m*x + b\n",
      "x = range(11)\n",
      "figure()\n",
      "plot( x , [f(i) for i in x], label = 'linear regression' + str(round(m,4))   + 'x + ' + str(b))\n",
      "errorbar( h[:,0] , h[:,1], yerr= h[:,2], fmt = 'r.')\n",
      "title = str(m) + '$\\pm$ ' + str(delm)  + 'x + ' + str(b) + '$\\pm$ ' + str(delb)\n",
      "legend()\n",
      "show()"
     ],
     "language": "python",
     "metadata": {},
     "outputs": [
      {
       "output_type": "display_data",
       "png": "[encoded data removed]"
      }
     ],
     "prompt_number": 4
    },
    {
     "cell_type": "code",
     "collapsed": false,
     "input": [
      "LinearLeastSquaresFit(h[:,0],h[:,1])\n",
      "#print x,f(x)\n"
     ],
     "language": "python",
     "metadata": {},
     "outputs": [
      {
       "output_type": "pyout",
       "prompt_number": 5,
       "text": [
        "(-0.47145454545454524,\n",
        " 8.2960000000000012,\n",
        " 0.0079948330421529684,\n",
        " 0.0024608181818181838)"
       ]
      }
     ],
     "prompt_number": 5
    },
    {
     "cell_type": "markdown",
     "metadata": {},
     "source": [
      "#Exercise 3"
     ]
    },
    {
     "cell_type": "code",
     "collapsed": false,
     "input": [
      "def WeightedLinearLeastSquaresFit(x,y,err):\n",
      "    \"takes two arraysand fits linear fit:: x@ y = mx + b\"\n",
      "    n = len(x)\n",
      "    w = err**-2\n",
      "    slope = m = (sum(w)*sum(w*x*y) - sum(w*x)*sum(w*y))/(sum(w)*sum(w*x**2) - sum(w*x)**2)\n",
      "    b = intercept= (sum(w*x*x)*sum(w*y) - sum(w*x)*sum(w*x*y))/(sum(w)*sum(w*x**2) - sum(w*x)**2)\n",
      "    \n",
      "    slerr = (sum(w)/(sum(w)*sum(w*x**2) - sum(w*x)**2))**0.5\n",
      "    \n",
      "    interr = (sum(w*x*x)/(sum(w)*sum(w*x**2) - sum(w*x)**2))**0.5\n",
      "    \n",
      "    return slope, intercept, slerr, interr"
     ],
     "language": "python",
     "metadata": {},
     "outputs": [],
     "prompt_number": 6
    },
    {
     "cell_type": "code",
     "collapsed": false,
     "input": [
      "mn ,nb, delmn, delbn = WeightedLinearLeastSquaresFit(h[:,0],h[:,1],h[:,2])\n",
      "fn = lambda x: mn*x + nb\n",
      "fupp = lambda x:(m+delm)*x  + b+delb\n",
      "fdwn = lambda x:(m-delm)*x  + b-delb\n",
      "x = range(11)\n",
      "figure()\n",
      "plot( x , [f(i) for i in x], label = 'linear regression')\n",
      "\n",
      "plot( x , [fn(i) for i in x], label = 'weighted linear regression')\n",
      "errorbar( h[:,0] , h[:,1], yerr= h[:,2], fmt = 'r.')\n",
      "titles = str(round(mn,3)) + '$\\pm$ ' + str(round(delmn,3))  + 'x + ' + str(round(nb,3)) + '$\\pm$ ' + str(round(delbn,3))\n",
      "legend()\n",
      "xlabel('weighted fit: '+titles)\n",
      "show()"
     ],
     "language": "python",
     "metadata": {},
     "outputs": [
      {
       "output_type": "display_data",
       "png": "[encoded data removed]"
      }
     ],
     "prompt_number": 10
    },
    {
     "cell_type": "code",
     "collapsed": false,
     "input": [
      "h[:,2]**-2"
     ],
     "language": "python",
     "metadata": {},
     "outputs": [
      {
       "output_type": "pyout",
       "prompt_number": 31,
       "text": [
        "array([ 2500.        ,  1111.11111111,  1111.11111111,   625.        ,\n",
        "         400.        ,   277.77777778,   156.25      ,    82.6446281 ,\n",
        "          51.02040816,    34.60207612])"
       ]
      }
     ],
     "prompt_number": 31
    },
    {
     "cell_type": "code",
     "collapsed": false,
     "input": [],
     "language": "python",
     "metadata": {},
     "outputs": []
    }
   ],
   "metadata": {}
  }
 ]
}