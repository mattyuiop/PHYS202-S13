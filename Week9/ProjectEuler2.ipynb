{
 "metadata": {
  "name": "ProjectEuler2"
 },
 "nbformat": 3,
 "nbformat_minor": 0,
 "worksheets": [
  {
   "cells": [
    {
     "cell_type": "markdown",
     "metadata": {},
     "source": [
      "Find sum of all Fibonacci even numbers$ F_i < 4 * 10^6 $"
     ]
    },
    {
     "cell_type": "code",
     "collapsed": false,
     "input": [
      "def sumEvenFibs(maxm):\n",
      "    tot= i = ithFib = 0\n",
      "    gamma = .5*(1 + 5**.5)\n",
      "    closeFib = lambda i: (5**-.5)*(gamma**i - (-gamma)**(-i))\n",
      "    while maxm > ithFib:\n",
      "        i+=1\n",
      "        #print ithFib,\n",
      "        ithFib = closeFib(i)\n",
      "        if int(ithFib)%2==0:\n",
      "            tot += int(ithFib)\n",
      "        \n",
      "        \n",
      "    return tot, i\n",
      "    \n",
      "        "
     ],
     "language": "python",
     "metadata": {},
     "outputs": [],
     "prompt_number": 36
    },
    {
     "cell_type": "code",
     "collapsed": false,
     "input": [
      "sumEvenFibs(4.0*10**6)"
     ],
     "language": "python",
     "metadata": {},
     "outputs": [
      {
       "output_type": "pyout",
       "prompt_number": 37,
       "text": [
        "(4613732, 34)"
       ]
      }
     ],
     "prompt_number": 37
    },
    {
     "cell_type": "code",
     "collapsed": false,
     "input": [
      "s"
     ],
     "language": "python",
     "metadata": {},
     "outputs": []
    }
   ],
   "metadata": {}
  }
 ]
}