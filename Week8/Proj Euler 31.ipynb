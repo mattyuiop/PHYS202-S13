{
 "metadata": {
  "name": "Proj Euler 31"
 },
 "nbformat": 3,
 "nbformat_minor": 0,
 "worksheets": [
  {
   "cells": [
    {
     "cell_type": "markdown",
     "metadata": {},
     "source": [
      "#design program to make all combinations of 2L with 1p,2p,5,10p 20p and 1L 2L denominations"
     ]
    },
    {
     "cell_type": "code",
     "collapsed": false,
     "input": [
      "def printPlausableCoins(n):\n",
      "    \"\"\"takes n [float] trunkates to 2 decimals then assembles possible coins by decreasing a count in nested for loops\"\"\"\n",
      "    ones= fives = tens = twent = whole = double = 0\n",
      "    \n",
      "    n = round(n,2)*100\n",
      "    count = n\n",
      "    f = [ones,fives,tens,twent,whole,double]\n",
      "    listed = []\n",
      "    for i in range(int(n/200)+1):\n",
      "        count -= i*200\n",
      "        double = i\n",
      "        for j in range(int(count/100)+1):\n",
      "            whole = j; count -= 100*j\n",
      "            for k in range(int(count/20)+1):\n",
      "                twent = k; count -= 20*k\n",
      "                for l in range(int(count/10)+1):\n",
      "                    tens = l; count -= 10*l\n",
      "                    for m in range(int(count/5)+1):\n",
      "                        fives = m; count -= 5*m\n",
      "                        ones = count\n",
      "                        f = [ones,fives,tens,twent,whole,double]\n",
      "                        listed.append([str(i) for i in f])\n",
      "                        count = n\n",
      "    #print listed  <----Remove to see combinations of coins\n",
      "    \n",
      "    return str(size(listed)/6 ) + ' Counts'\n",
      "    #%s x 1p + %s x 5p + %s x 10p + %s x 20p + %s x 1L  + %s x 2L'  % (ones,fives,tens,twent,whole,double) "
     ],
     "language": "python",
     "metadata": {},
     "outputs": [],
     "prompt_number": 32
    },
    {
     "cell_type": "code",
     "collapsed": false,
     "input": [
      "printPlausableCoins(2)"
     ],
     "language": "python",
     "metadata": {},
     "outputs": [
      {
       "output_type": "pyout",
       "prompt_number": 33,
       "text": [
        "'5339 Counts'"
       ]
      }
     ],
     "prompt_number": 33
    },
    {
     "cell_type": "code",
     "collapsed": false,
     "input": [],
     "language": "python",
     "metadata": {},
     "outputs": []
    }
   ],
   "metadata": {}
  }
 ]
}