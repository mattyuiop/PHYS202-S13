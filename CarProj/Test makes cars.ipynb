{
 "metadata": {
  "name": "Test makes cars"
 },
 "nbformat": 3,
 "nbformat_minor": 0,
 "worksheets": [
  {
   "cells": [
    {
     "cell_type": "code",
     "collapsed": false,
     "input": [
      "def AdvTime(cars, vels):\n",
      "   \n",
      "    testCrs = zeros(8) \n",
      "    testCrs[4] =testCrs[2] = 1\n",
      "    cars = testCrs\n",
      "    #vels = zeros(len(cars))\n",
      "    places = searchsorted(cars,1)\n",
      "    #cars = [cars + 'a']\n",
      "    return cars, places"
     ],
     "language": "python",
     "metadata": {},
     "outputs": [],
     "prompt_number": 53
    },
    {
     "cell_type": "code",
     "collapsed": false,
     "input": [
      "AdvTime(2,2)\n",
      "\n"
     ],
     "language": "python",
     "metadata": {},
     "outputs": [
      {
       "output_type": "pyout",
       "prompt_number": 54,
       "text": [
        "(array([ 0.,  0.,  1.,  0.,  1.,  0.,  0.,  0.]), 2)"
       ]
      }
     ],
     "prompt_number": 54
    },
    {
     "cell_type": "code",
     "collapsed": false,
     "input": [],
     "language": "python",
     "metadata": {},
     "outputs": []
    }
   ],
   "metadata": {}
  }
 ]
}