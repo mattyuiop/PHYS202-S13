{
 "metadata": {
  "name": "PE5"
 },
 "nbformat": 3,
 "nbformat_minor": 0,
 "worksheets": [
  {
   "cells": [
    {
     "cell_type": "markdown",
     "metadata": {},
     "source": [
      "# what is smallest positive number evently divisible by all numbers 1-20\n",
      "answ (1-10) +> 2520"
     ]
    },
    {
     "cell_type": "code",
     "collapsed": false,
     "input": [
      "print 'answer,:'; print( 16*19*17*13*11*7*5*3*3)"
     ],
     "language": "python",
     "metadata": {},
     "outputs": [
      {
       "output_type": "stream",
       "stream": "stdout",
       "text": [
        "answer,:\n",
        "232792560\n"
       ]
      }
     ],
     "prompt_number": 5
    },
    {
     "cell_type": "code",
     "collapsed": false,
     "input": [
      "#Brute force\n",
      "alpha =beta =  True\n",
      "i = 20000000 # do not set to zero. takes foever.   another approach: isolate primes like my educated guess \n",
      "hold = 1\n",
      "p = range(2,21)\n",
      "while alpha:\n",
      "    z=0; beta = True\n",
      "    while beta:\n",
      "        if i%p[z]==0:\n",
      "            z+=1\n",
      "            if p[z] ==20:\n",
      "                beta = alpha =False\n",
      "                print i\n",
      "                break\n",
      "        else: i+=1;beta = False;z=0\n",
      "    hold +=1\n",
      "    if hold>10**10:\n",
      "        print 'poop'\n",
      "        break\n",
      "else: print i"
     ],
     "language": "python",
     "metadata": {},
     "outputs": [
      {
       "output_type": "stream",
       "stream": "stdout",
       "text": [
        "232792560\n",
        "232792560\n"
       ]
      }
     ],
     "prompt_number": 5
    },
    {
     "cell_type": "code",
     "collapsed": false,
     "input": [],
     "language": "python",
     "metadata": {},
     "outputs": []
    }
   ],
   "metadata": {}
  }
 ]
}