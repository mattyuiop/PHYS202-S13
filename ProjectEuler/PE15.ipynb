{
 "metadata": {
  "name": "PE15"
 },
 "nbformat": 3,
 "nbformat_minor": 0,
 "worksheets": [
  {
   "cells": [
    {
     "cell_type": "markdown",
     "metadata": {},
     "source": [
      "How many paths (only moving Down and Right) will move from the top left corner to the bottom right corner of a 20x20 grid?\n",
      "\n",
      "For a 2x2 grid there are 6 paths\n",
      "\n",
      "Answer: This is equivallent to solving the number of permutations of 20 Rights and 20 Downs, that is a 40 letter word with two sets of 20 letters repeated\n",
      "\n",
      "pathsNbyN returns this combinatorial value"
     ]
    },
    {
     "cell_type": "code",
     "collapsed": false,
     "input": [
      "def pathsNbyN(X,Y):\n",
      "    return math.factorial(X+Y)/(math.factorial(X)*math.factorial(Y))\n",
      "\n",
      "pathsNbyN(2,2)"
     ],
     "language": "python",
     "metadata": {},
     "outputs": [
      {
       "output_type": "pyout",
       "prompt_number": 1,
       "text": [
        "6"
       ]
      }
     ],
     "prompt_number": 1
    },
    {
     "cell_type": "code",
     "collapsed": false,
     "input": [
      "pathsNbyN(20,20)"
     ],
     "language": "python",
     "metadata": {},
     "outputs": [
      {
       "output_type": "pyout",
       "prompt_number": 2,
       "text": [
        "137846528820L"
       ]
      }
     ],
     "prompt_number": 2
    },
    {
     "cell_type": "markdown",
     "metadata": {},
     "source": [
      "There are 137846528820 paths on a 20x20 grid"
     ]
    },
    {
     "cell_type": "code",
     "collapsed": false,
     "input": [],
     "language": "python",
     "metadata": {},
     "outputs": []
    }
   ],
   "metadata": {}
  }
 ]
}