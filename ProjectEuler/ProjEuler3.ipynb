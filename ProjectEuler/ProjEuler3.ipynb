{
 "metadata": {
  "name": "ProjEuler3"
 },
 "nbformat": 3,
 "nbformat_minor": 0,
 "worksheets": [
  {
   "cells": [
    {
     "cell_type": "markdown",
     "metadata": {},
     "source": [
      "Project E 3:\n",
      "    What is the largest prime factor of 6008514775143"
     ]
    },
    {
     "cell_type": "code",
     "collapsed": false,
     "input": [
      "pics = open('10000.txt')\n",
      "lines  = pics.readlines()\n",
      "i=0; allp = []\n",
      "for line in lines:\n",
      "    i +=1\n",
      "    if i>1000:\n",
      "        break\n",
      "    entries = (line.strip()).split()\n",
      "    for j in entries:\n",
      "        allp.append(j)"
     ],
     "language": "python",
     "metadata": {},
     "outputs": [],
     "prompt_number": 10
    },
    {
     "cell_type": "code",
     "collapsed": false,
     "input": [
      "#find sieve allp entries with mod 6008514775143\n",
      "def sieve(n):\n",
      "    best = 1\n",
      "    for i in allp:\n",
      "        if n%int(i)==0:\n",
      "            print i,\n",
      "            best = i\n",
      "    return best\n",
      "sieve(6008514775143)\n",
      "        "
     ],
     "language": "python",
     "metadata": {},
     "outputs": [
      {
       "output_type": "stream",
       "stream": "stdout",
       "text": [
        "3 59 20333 28297"
       ]
      },
      {
       "output_type": "pyout",
       "prompt_number": 17,
       "text": [
        "'28297'"
       ]
      },
      {
       "output_type": "stream",
       "stream": "stdout",
       "text": [
        "\n"
       ]
      }
     ],
     "prompt_number": 17
    },
    {
     "cell_type": "code",
     "collapsed": false,
     "input": [
      "## answer: biggest prime is 28297\n",
      "#wolfram factors: 3*59**2 * 20333*28297"
     ],
     "language": "python",
     "metadata": {},
     "outputs": []
    }
   ],
   "metadata": {}
  }
 ]
}