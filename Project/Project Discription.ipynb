{
 "metadata": {
  "name": "Project Discription"
 },
 "nbformat": 3,
 "nbformat_minor": 0,
 "worksheets": [
  {
   "cells": [
    {
     "cell_type": "markdown",
     "metadata": {},
     "source": [
      "Since it is impoossible to classically quantify collissions of two complex nucleus it is nessisary to characterize energetic particles by their atomic qualities ( mass, radius, eccentricty) and momentum represented as $P_{lab}$ that is the momentum of the particle accelerated.\n",
      "\n",
      "Ideally we may count the number of nucleons which iteract by the overlap (cross section) of two colliding nucleons.\n",
      "\n",
      "From the cross section the interactions are counted as a fraction of the total nucleons\n",
      "\n",
      "\n",
      "\\# nucleons $\\approx$ Atomic mass number\n",
      "\n",
      "By the function \"WoodSaxon\" an aray is generated from the wood saxon distribution from 0 to 1.1R as a speration parameter\n",
      "\n",
      "The function showRndCollision draws two similar nucli colliding and returns the number of participating nucleons"
     ]
    },
    {
     "cell_type": "markdown",
     "metadata": {},
     "source": [
      "##Referenced Data\n",
      "J. Beringer et al. (Particle Data Group), Phys. Rev. D86, 010001 (2012)\n",
      "\n",
      "[1] http://pdg.lbl.gov/2012/hadronic-xsections/rpp2012-pp_total.dat\n",
      "\n",
      "[2] http://pdg.lbl.gov/2012/hadronic-xsections/rpp2012-pp_elastic.dat"
     ]
    },
    {
     "cell_type": "code",
     "collapsed": false,
     "input": [],
     "language": "python",
     "metadata": {},
     "outputs": [],
     "prompt_number": 1
    },
    {
     "cell_type": "code",
     "collapsed": false,
     "input": [],
     "language": "python",
     "metadata": {},
     "outputs": []
    }
   ],
   "metadata": {}
  }
 ]
}