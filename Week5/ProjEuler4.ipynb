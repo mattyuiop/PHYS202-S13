{
 "metadata": {
  "name": "ProjEuler4"
 },
 "nbformat": 3,
 "nbformat_minor": 0,
 "worksheets": [
  {
   "cells": [
    {
     "cell_type": "markdown",
     "metadata": {},
     "source": [
      "#find largest palandrom from 3 digit numbers"
     ]
    },
    {
     "cell_type": "code",
     "collapsed": false,
     "input": [
      "#find largest palandrom that is product of 2 3digit numbers:\n",
      "factors = []\n",
      "products =''\n",
      "factors += []\n",
      "def is_pal(nmb):\n",
      "    if str(nmb)[::-1] == str(nmb):\n",
      "        return True\n",
      "    else:return False\n",
      "best = 0\n",
      "for i in range(0,999+1):\n",
      "    for j in range(0,999+1):\n",
      "        num = i*j\n",
      "        if is_pal(num): \n",
      "            products+=str(num)+ ',';\n",
      "            factors += [str(i)+'*'+str(j)+'then']\n",
      "            if num>best:\n",
      "                best=num\n",
      "                bprod = [str(i)+'*' + str(j)]\n",
      "            \n",
      "#print products,factors\n",
      "print best,bprod\n"
     ],
     "language": "python",
     "metadata": {},
     "outputs": [
      {
       "output_type": "stream",
       "stream": "stdout",
       "text": [
        "906609 ['913*993']\n"
       ]
      }
     ],
     "prompt_number": 1
    },
    {
     "cell_type": "code",
     "collapsed": false,
     "input": [
      "#finds best palandrom with n digits note relys on ispal defined abpove\n",
      "def bestPalofNdig(n):\n",
      "    best=0\n",
      "    for i in range(9*10**(n-1),10**n):\n",
      "        for j in range(9*10**(n-1),10**n):\n",
      "            num = i*j\n",
      "            if is_pal(num): \n",
      "                if num>best:\n",
      "                    best=num\n",
      "                    bfact = [str(i)+'*' + str(j)]\n",
      "                \n",
      "#print products,factors\n",
      "    return best,bfact\n"
     ],
     "language": "python",
     "metadata": {},
     "outputs": [],
     "prompt_number": 2
    },
    {
     "cell_type": "code",
     "collapsed": false,
     "input": [
      "bestPalofNdig(3)"
     ],
     "language": "python",
     "metadata": {},
     "outputs": [
      {
       "output_type": "pyout",
       "prompt_number": 3,
       "text": [
        "(906609, ['913*993'])"
       ]
      }
     ],
     "prompt_number": 3
    },
    {
     "cell_type": "code",
     "collapsed": false,
     "input": [
      "bestPalofNdig(5)"
     ],
     "language": "python",
     "metadata": {},
     "outputs": [
      {
       "output_type": "pyout",
       "prompt_number": 4,
       "text": [
        "(9966006699, ['99681*99979'])"
       ]
      }
     ],
     "prompt_number": 4
    },
    {
     "cell_type": "code",
     "collapsed": false,
     "input": [],
     "language": "python",
     "metadata": {},
     "outputs": []
    }
   ],
   "metadata": {}
  }
 ]
}