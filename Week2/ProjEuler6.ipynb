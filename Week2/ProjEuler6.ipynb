{
 "metadata": {
  "name": "ProjEuler6"
 },
 "nbformat": 3,
 "nbformat_minor": 0,
 "worksheets": [
  {
   "cells": [
    {
     "cell_type": "code",
     "collapsed": false,
     "input": [
      "def sumOfSqs(n):\n",
      "    tot = 0\n",
      "    for i in range(n):\n",
      "        tot += (i+1)**2\n",
      "    return tot\n",
      "def sqOfSum(n):\n",
      "    tot = sum(range(n)) + n\n",
      "    return tot**2\n",
      "print sumOfSqs(10)\n",
      "print sqOfSum(10)"
     ],
     "language": "python",
     "metadata": {},
     "outputs": [
      {
       "output_type": "stream",
       "stream": "stdout",
       "text": [
        "385\n",
        "3025\n"
       ]
      }
     ],
     "prompt_number": 7
    },
    {
     "cell_type": "markdown",
     "metadata": {},
     "source": [
      "Functions sumOfSq and sqOfSum take int n and sum the square from 1 to n and sqaure the sum of 1 to n respectively\n",
      "-------"
     ]
    },
    {
     "cell_type": "code",
     "collapsed": false,
     "input": [
      "n = 10\n",
      "a = sqOfSum(n) \n",
      "b = sumOfSqs(n)\n",
      "a-b"
     ],
     "language": "python",
     "metadata": {},
     "outputs": [
      {
       "output_type": "pyout",
       "prompt_number": 10,
       "text": [
        "2640"
       ]
      }
     ],
     "prompt_number": 10
    },
    {
     "cell_type": "code",
     "collapsed": false,
     "input": [
      "n = 100\n",
      "a = sqOfSum(n) \n",
      "b = sumOfSqs(n)\n",
      "a-b"
     ],
     "language": "python",
     "metadata": {},
     "outputs": [
      {
       "output_type": "pyout",
       "prompt_number": 11,
       "text": [
        "25164150"
       ]
      }
     ],
     "prompt_number": 11
    },
    {
     "cell_type": "markdown",
     "metadata": {},
     "source": [
      "## The difference between the square of the sums and the sum of the squares of the first 100 natural numbers is 25164150"
     ]
    },
    {
     "cell_type": "code",
     "collapsed": false,
     "input": [],
     "language": "python",
     "metadata": {},
     "outputs": []
    }
   ],
   "metadata": {}
  }
 ]
}