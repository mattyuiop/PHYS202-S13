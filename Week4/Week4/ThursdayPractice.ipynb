{
 "metadata": {
  "name": "ThursdayPractice"
 },
 "nbformat": 3,
 "nbformat_minor": 0,
 "worksheets": [
  {
   "cells": [
    {
     "cell_type": "code",
     "collapsed": false,
     "input": [
      "from Electrostatics import *\n"
     ],
     "language": "python",
     "metadata": {},
     "outputs": [
      {
       "output_type": "pyout",
       "prompt_number": 20,
       "text": [
        "40.0"
       ]
      }
     ],
     "prompt_number": 20
    },
    {
     "cell_type": "code",
     "collapsed": false,
     "input": [
      "from mpl_toolkits.mplot3d import Axes3D\n",
      "dx,dy = 6e-4,6e-4\n",
      "x,y = meshgrid(arange(1e-2,1e-2,dx),arange(1e-2,1e-2,dy))\n",
      "V = pointPotential(x,y,-2e-9, -5e-3,0) + dipolePotential(x,y,3e-9,-3e-9,5e-4)\n",
      "fig = figure()\n",
      "ax = fig.gca(projection = '3d')\n",
      "v  = ax.plot_surface(x, y, V, rstride=1, cstride=1, linewidth=0,cmap=cm.coolwarm)\n",
      "#cb = fig.colorbar(v, shrink=0.5)"
     ],
     "language": "python",
     "metadata": {},
     "outputs": [],
     "prompt_number": "*"
    },
    {
     "cell_type": "code",
     "collapsed": false,
     "input": [],
     "language": "python",
     "metadata": {},
     "outputs": [],
     "prompt_number": "*"
    },
    {
     "cell_type": "code",
     "collapsed": false,
     "input": [],
     "language": "python",
     "metadata": {},
     "outputs": []
    }
   ],
   "metadata": {}
  }
 ]
}