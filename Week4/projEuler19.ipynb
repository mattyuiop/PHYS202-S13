{
 "metadata": {
  "name": "projEuler19"
 },
 "nbformat": 3,
 "nbformat_minor": 0,
 "worksheets": [
  {
   "cells": [
    {
     "cell_type": "markdown",
     "metadata": {},
     "source": [
      "1 Jan 1900 was a Monday.\n",
      "----\n",
      "Thirty days has September,\n",
      "----\n",
      "April, June and November.\n",
      "----\n",
      "All the rest have thirty-one,\n",
      "----\n",
      "Saving February alone,\n",
      "----\n",
      "Which has twenty-eight, rain or shine.\n",
      "----\n",
      "And on leap years, twenty-nine.\n",
      "----\n",
      "A leap year occurs on any year evenly divisible by 4, but not on a century unless it is divisible by 400.\n",
      "--------"
     ]
    },
    {
     "cell_type": "markdown",
     "metadata": {},
     "source": [
      "Cound Sundays command coded 4 cells lower.  I intended to write Subordinate functions appear ealier date manipulations I thought would be helpful for doing partial years bt count sundays only computes whole years as is\n",
      "----"
     ]
    },
    {
     "cell_type": "code",
     "collapsed": false,
     "input": [
      "def getNumb(s):\n",
      "    '''finds a day in a month in a year with vague input perameters either american style dates Month day, year or Day month year style mm/dd/year also accepted'''\n",
      "    #find days in year\n",
      "    dd,mm,year = [],[],[]\n",
      "    if '/' in s:\n",
      "        # mm/dd/year format\n",
      "        slice1 = s.index('/')\n",
      "        mm = s[:slice1]\n",
      "        remain = s[slice1+1:]\n",
      "        slice2 = remain.index('/')\n",
      "        dd = remain[:slice2]\n",
      "        year = remain[slice2+1:]\n",
      "    elif ',' in s:\n",
      "        # month day, year: september 23, 1990 or sep 13, 1990\n",
      "        slice1 = s.index(' ')\n",
      "        mm = s[:slice1]\n",
      "        remain = s[slice1+1:]\n",
      "        slice2 = remain.index(',')\n",
      "        dd = remain[:slice2]\n",
      "        year = remain[slice2+1:]\n",
      "        \n",
      "    elif ' ' in s:\n",
      "        # dd month year for mat; 12 march 2113\n",
      "        slice1 = s.index(' ')\n",
      "        dd = s[:slice1]\n",
      "        remain = s[slice1+1:]\n",
      "        slice2 = remain.index(' ')\n",
      "        mm = remain[:slice2]\n",
      "        year = remain[slice2+1:]\n",
      "        \n",
      "    else:\n",
      "        return 'nan'\n",
      "    return dd,mm,year\n",
      "    \n",
      "def pastLeft(s):\n",
      "    #identifys day value on either side of date\n",
      "    past = 0\n",
      "    Date = getNumb(s)\n",
      "    #return past,left compute leap year\n",
      "    isLeap = (int(Date[2])%4 == 0)\n",
      "    if isLeap:\n",
      "        days = 366\n",
      "    else:\n",
      "        days = 365\n",
      "    if (Date[1].lower() == 'jan') or (Date[1].lower() == 'january') or (Date[1] == '01') or (Date[1]== '1'):\n",
      "        past = int(Date[0])\n",
      "        left = days -past\n",
      "    elif (Date[1].lower() == 'feb') or (Date[1].lower() == 'february') or (Date[1] == '02') or (Date[1]== '2'):\n",
      "        past = int(Date[0]) + 31\n",
      "        left = days -past\n",
      "    elif (Date[1].lower() == 'mar') or (Date[1].lower() == 'march') or (Date[1] == '03') or (Date[1]== '3'):\n",
      "        past = int(Date[0]) + 28+31\n",
      "        if isLeap:past +=1\n",
      "        left = days -past\n",
      "    elif (Date[1].lower() == 'apr') or (Date[1].lower() == 'april') or (Date[1] == '04') or (Date[1]== '4'):\n",
      "        past = int(Date[0]) + 28+31 + 31\n",
      "        if isLeap:past +=1\n",
      "        left = days -past\n",
      "    elif (Date[1].lower() == 'may') or (Date[1] == '05') or (Date[1]== '5'):\n",
      "        past = int(Date[0]) + 120\n",
      "        if isLeap:past +=1\n",
      "        left = days -past\n",
      "    elif (Date[1].lower() == 'june') or (Date[1].lower() == 'jun') or (Date[1] == '06') or (Date[1]== '6'):\n",
      "        past = int(Date[0]) + 151\n",
      "        if isLeap:past +=1\n",
      "        left = days -past\n",
      "    elif (Date[1].lower() == 'jul') or (Date[1].lower() == 'july') or (Date[1] == '07') or (Date[1]== '7'):\n",
      "        past = int(Date[0]) + 181\n",
      "        if isLeap:past +=1\n",
      "        left = days -past\n",
      "    elif (Date[1].lower() == 'aug') or (Date[1].lower() == 'august') or (Date[1] == '08') or (Date[1]== '8'):\n",
      "        past = int(Date[0]) + 212\n",
      "        if isLeap:past +=1\n",
      "        left = days -past\n",
      "    elif (Date[1].lower() == 'sep') or (Date[1].lower() == 'september') or (Date[1] == '09') or (Date[1]== '9'):\n",
      "        past = int(Date[0]) + 243\n",
      "        if isLeap:past +=1\n",
      "        left = days -past\n",
      "    elif (Date[1].lower() == 'oct') or (Date[1].lower() == 'october') or (Date[1] == '10'):\n",
      "        past = int(Date[0]) + 273\n",
      "        if isLeap:past +=1\n",
      "        left = days -past\n",
      "    elif (Date[1].lower() == 'nov') or (Date[1].lower() == 'november') or (Date[1] == '11'):\n",
      "        past = int(Date[0]) + 365 - (61)\n",
      "        if isLeap:past +=1\n",
      "        left = days -past\n",
      "    elif (Date[1].lower() == 'dec') or (Date[1].lower() == 'december') or (Date[1] == '12'):\n",
      "        past = int(Date[0]) + 365 - 31\n",
      "        if isLeap:past +=1\n",
      "        left = days -past\n",
      "    \n",
      "    return past,left-1\n",
      "\n",
      "def contDays(start,end):\n",
      "    #counts days from start to end utilizes getNumb and pastLeft\n",
      "    numStart,numEnd = getNumb(start),getNumb(end)\n",
      "    a = pastLeft(start)\n",
      "    b = pastLeft(end)\n",
      "    yeardiff = int(numEnd[2]) - int(numStart[2])\n",
      "    count = (yeardiff) * 365 - (a[0] - b[0]) \n",
      "    #add leap years between the two\n",
      "    cntLpDy = yeardiff / 4.\n",
      "    if (int(numStart[2])%4 >= 2) & (int(numStart[2])%4 <= 2) & yeardiff !=0:\n",
      "        cntLpDy +=1\n",
      "    count += round(cntLpDy)\n",
      "    return count #, yeardiff,cntLpDy"
     ],
     "language": "python",
     "metadata": {},
     "outputs": [],
     "prompt_number": 195
    },
    {
     "cell_type": "code",
     "collapsed": false,
     "input": [
      "a= getNumb('nov 1,1890')\n",
      "print a"
     ],
     "language": "python",
     "metadata": {},
     "outputs": [
      {
       "output_type": "stream",
       "stream": "stdout",
       "text": [
        "('1', 'nov', '1890')\n"
       ]
      }
     ],
     "prompt_number": 188
    },
    {
     "cell_type": "code",
     "collapsed": false,
     "input": [
      "a= pastLeft('nov 1, 19')\n",
      "print a, sum(a)"
     ],
     "language": "python",
     "metadata": {},
     "outputs": [
      {
       "output_type": "stream",
       "stream": "stdout",
       "text": [
        "(305, 59) 364\n"
       ]
      }
     ],
     "prompt_number": 189
    },
    {
     "cell_type": "code",
     "collapsed": false,
     "input": [
      "st='1/1/1901'\n",
      "en = 'dec 1,2000'\n",
      "contDays(st,en)"
     ],
     "language": "python",
     "metadata": {},
     "outputs": [
      {
       "output_type": "pyout",
       "prompt_number": 194,
       "text": [
        "36495.0"
       ]
      }
     ],
     "prompt_number": 194
    },
    {
     "cell_type": "code",
     "collapsed": false,
     "input": [
      "def findType(n):\n",
      "    ntype = n%14\n",
      "    print ('I guess type %s ask wolfram??') % (ntype)\n",
      "    return ntype"
     ],
     "language": "python",
     "metadata": {},
     "outputs": [],
     "prompt_number": 40
    },
    {
     "cell_type": "code",
     "collapsed": false,
     "input": [
      "def count1Suns(years, yeare):\n",
      "    '''Adds 1 2 or 3 counts for number of first sundays after computing year type;\n",
      "    years come in 14 types (one for each starting day of the week [7] then doubled for years that are a leap year\n",
      "    numbered: Jan 1: Monday [type  = 1], Jan 1: Tu[type = 2]... jan 1: Sunday [type =7]; jan 1 (Leap year)  [type = 8] etc'''\n",
      "    if years==1900:\n",
      "        yrType = 1\n",
      "    elif years==1901:\n",
      "        yrType = 2\n",
      "    else:\n",
      "        yrType = findType(years)\n",
      "    i = years\n",
      "    count = 0\n",
      "    while True:\n",
      "        if (i%100!=0)& (i%4 == 0):\n",
      "            yrType = yrType + 7\n",
      "        if yrType == 1:\n",
      "            count +=2\n",
      "            yrType = 2\n",
      "        elif yrType ==2:\n",
      "            count +=2\n",
      "            yrType = 3\n",
      "        elif yrType ==3:\n",
      "            count +=1\n",
      "            yrType = 4\n",
      "        elif yrType ==4:\n",
      "            count +=3\n",
      "            yrType = 5\n",
      "        elif yrType ==5:\n",
      "            count +=1\n",
      "            yrType = 6\n",
      "        elif yrType ==6:\n",
      "            count +=1\n",
      "            yrType = 7        \n",
      "        elif yrType ==7:\n",
      "            count +=2\n",
      "            yrType = 1\n",
      "        elif yrType ==8:\n",
      "            count +=2\n",
      "            yrType = 3\n",
      "        elif yrType ==9:\n",
      "            count +=1\n",
      "            yrType = 4\n",
      "        elif yrType ==10:\n",
      "            count +=2\n",
      "            yrType = 5\n",
      "        elif yrType ==11:\n",
      "            count +=2\n",
      "            yrType = 6\n",
      "        elif yrType ==12:\n",
      "            count +=1\n",
      "            yrType = 7\n",
      "        elif yrType ==13:\n",
      "            count +=1\n",
      "            yrType = 1\n",
      "        elif yrType ==14:\n",
      "            count +=3\n",
      "            yrType = 2\n",
      "        \n",
      "        i+=1\n",
      "        if i == yeare+1:\n",
      "            break\n",
      "        \n",
      "    return count\n",
      "        \n",
      "    "
     ],
     "language": "python",
     "metadata": {},
     "outputs": [],
     "prompt_number": 41
    },
    {
     "cell_type": "markdown",
     "metadata": {},
     "source": [
      "#Utilize count1Suns to compute number of sundays on first of the month from start year to end year\n",
      "##program likes year start 1900 and 1901"
     ]
    },
    {
     "cell_type": "code",
     "collapsed": false,
     "input": [
      "count1Suns(1901,18990)"
     ],
     "language": "python",
     "metadata": {},
     "outputs": [
      {
       "output_type": "pyout",
       "prompt_number": 46,
       "text": [
        "29297"
       ]
      }
     ],
     "prompt_number": 46
    },
    {
     "cell_type": "code",
     "collapsed": false,
     "input": [],
     "language": "python",
     "metadata": {},
     "outputs": []
    }
   ],
   "metadata": {}
  }
 ]
}