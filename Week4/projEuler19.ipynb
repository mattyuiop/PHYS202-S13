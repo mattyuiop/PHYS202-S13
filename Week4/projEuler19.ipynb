{
 "metadata": {
  "name": "projEuler19"
 },
 "nbformat": 3,
 "nbformat_minor": 0,
 "worksheets": [
  {
   "cells": [
    {
     "cell_type": "code",
     "collapsed": false,
     "input": [
      "def getNumb(s):\n",
      "    '''computes day of the year and days left in year by string s either 'mm/dd/year' or 1 jan 1990 or 1 june 1990 ei: dd month year\n",
      "    returns (days past, days left)'''\n",
      "    #jan,feb,mar,apr,may,jun,jul,aug,sep,oct.nov,dec = 1\n",
      "    #find days in year\n",
      "    \n",
      "    if '/' in s:\n",
      "        # mm/dd/year format\n",
      "        slice1 = s.index('/')\n",
      "        mm = s[:slice1]\n",
      "        remain = s[slice1+1:]\n",
      "        slice2 = remain.index('/')\n",
      "        dd = remain[:slice2]\n",
      "        year = remain[slice2+1:]\n",
      "    elif ',' in s:\n",
      "        # month day, year: september 23, 1990 or sep 13, 1990\n",
      "        slice1 = s.index(' ')\n",
      "        mm = s[:slice1]\n",
      "        remain = s[slice1+1:]\n",
      "        slice2 = remain.index(',')\n",
      "        dd = remain[:slice2]\n",
      "        year = remain[slice2+1:]\n",
      "        \n",
      "    elif ' ' in s:\n",
      "        # dd month year for mat; 12 march 2113\n",
      "        slice1 = s.index(' ')\n",
      "        dd = s[:slice1]\n",
      "        remain = s[slice1+1:]\n",
      "        slice2 = remain.index(' ')\n",
      "        mm = remain[:slice2]\n",
      "        year = remain[slice2+1:]\n",
      "        \n",
      "    else:\n",
      "        return 'nan'\n",
      "    return dd,mm,year\n",
      "    \n",
      "def pastLeft(s):\n",
      "    past = 0\n",
      "    Date = getNumb(s)\n",
      "    #return past,left compute leap year\n",
      "    isLeap = (int(Date[2])%4 == 0)\n",
      "    if isLeap:\n",
      "        days = 366\n",
      "    else:\n",
      "        days = 365\n",
      "    if (Date[1].lower() == 'jan') or (Date[1].lower() == 'january') or (Date[1] == '01') or (Date[1]== '1'):\n",
      "        past = int(a[0])\n",
      "        left = days -past\n",
      "    elif (Date[1].lower() == 'feb') or (Date[1].lower() == 'february') or (Date[1] == '02') or (Date[1]== '2'):\n",
      "        past = int(a[0]) + 31\n",
      "        left = days -past\n",
      "    elif (Date[1].lower() == 'mar') or (Date[1].lower() == 'march') or (Date[1] == '03') or (Date[1]== '3'):\n",
      "        past = int(a[0]) + 28+31\n",
      "        if isLeap:past +=1\n",
      "        left = days -past\n",
      "    elif (Date[1].lower() == 'apr') or (Date[1].lower() == 'april') or (Date[1] == '04') or (Date[1]== '4'):\n",
      "        past = int(a[0]) + 28+31 + 31\n",
      "        if isLeap:past +=1\n",
      "        left = days -past\n",
      "    elif (Date[1].lower() == 'may') or (Date[1] == '05') or (Date[1]== '5'):\n",
      "        past = int(a[0]) + 120\n",
      "        if isLeap:past +=1\n",
      "        left = days -past\n",
      "    elif (Date[1].lower() == 'june') or (Date[1].lower() == 'jun') or (Date[1] == '06') or (Date[1]== '6'):\n",
      "        past = int(a[0]) + 151\n",
      "        if isLeap:past +=1\n",
      "        left = days -past\n",
      "    elif (Date[1].lower() == 'jul') or (Date[1].lower() == 'july') or (Date[1] == '07') or (Date[1]== '7'):\n",
      "        past = int(a[0]) + 181\n",
      "        if isLeap:past +=1\n",
      "        left = days -past\n",
      "    elif (Date[1].lower() == 'aug') or (Date[1].lower() == 'august') or (Date[1] == '08') or (Date[1]== '8'):\n",
      "        past = int(a[0]) + 212\n",
      "        if isLeap:past +=1\n",
      "        left = days -past\n",
      "    elif (Date[1].lower() == 'sep') or (Date[1].lower() == 'september') or (Date[1] == '09') or (Date[1]== '9'):\n",
      "        past = int(a[0]) + 243\n",
      "        if isLeap:past +=1\n",
      "        left = days -past\n",
      "    elif (Date[1].lower() == 'oct') or (Date[1].lower() == 'october') or (Date[1] == '10'):\n",
      "        past = int(a[0]) + 273\n",
      "        if isLeap:past +=1\n",
      "        left = days -past\n",
      "    elif (Date[1].lower() == 'nov') or (Date[1].lower() == 'november') or (Date[1] == '11'):\n",
      "        past = int(a[0]) + 365 - (61)\n",
      "        if isLeap:past +=1\n",
      "        left = days -past\n",
      "    elif (Date[1].lower() == 'dec') or (Date[1].lower() == 'december') or (Date[1] == '12'):\n",
      "        past = int(a[0]) + 365 - 31\n",
      "        if isLeap:past +=1\n",
      "        left = days -past\n",
      "    \n",
      "    return past,left\n",
      "\n",
      "def contDays(start,end):\n",
      "    #counts days from start to end utilizes getNumb and pastLeft\n",
      "    numStart,numEnd = getNumb(start),getNumb(end)\n",
      "    a = pastLeft(start)\n",
      "    b = pastLeft(end)\n",
      "    yeardiff = int(numEnd[2]) - int(numStart[2])\n",
      "    count = (yeardiff)*365 +(b[0] - a[0]) \n",
      "    return count"
     ],
     "language": "python",
     "metadata": {},
     "outputs": [],
     "prompt_number": 165
    },
    {
     "cell_type": "code",
     "collapsed": false,
     "input": [
      "a= getNumb('1 jan 1890')"
     ],
     "language": "python",
     "metadata": {},
     "outputs": [],
     "prompt_number": 166
    },
    {
     "cell_type": "code",
     "collapsed": false,
     "input": [
      "a= pastLeft('feb 1, 20')\n",
      "print a, sum(a)"
     ],
     "language": "python",
     "metadata": {},
     "outputs": [
      {
       "output_type": "stream",
       "stream": "stdout",
       "text": [
        "(94, 272) 366\n"
       ]
      }
     ],
     "prompt_number": 172
    },
    {
     "cell_type": "code",
     "collapsed": false,
     "input": [
      "contDays('1/1/1990','1/15/1990')"
     ],
     "language": "python",
     "metadata": {},
     "outputs": [
      {
       "output_type": "pyout",
       "prompt_number": 168,
       "text": [
        "0"
       ]
      }
     ],
     "prompt_number": 168
    },
    {
     "cell_type": "code",
     "collapsed": false,
     "input": [],
     "language": "python",
     "metadata": {},
     "outputs": []
    }
   ],
   "metadata": {}
  }
 ]
}