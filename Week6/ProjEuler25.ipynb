{
 "metadata": {
  "name": "ProjEuler25"
 },
 "nbformat": 3,
 "nbformat_minor": 0,
 "worksheets": [
  {
   "cells": [
    {
     "cell_type": "code",
     "collapsed": false,
     "input": [
      "Find index of first 1000 digit fibbonachi number,  first code: brute force, second code using closed form <- did not work; overflow)"
     ],
     "language": "python",
     "metadata": {},
     "outputs": []
    },
    {
     "cell_type": "code",
     "collapsed": false,
     "input": [
      "sp,sc,i= 1,1,2\n",
      "while len(str(sc)) < 10:\n",
      "    sp,sc = sc,sp+sc\n",
      "    i+=1\n",
      "else: print i,sc"
     ],
     "language": "python",
     "metadata": {},
     "outputs": [
      {
       "output_type": "stream",
       "stream": "stdout",
       "text": [
        "45 1134903170\n"
       ]
      }
     ],
     "prompt_number": 8
    },
    {
     "cell_type": "code",
     "collapsed": false,
     "input": [
      "nDigFib(1000)\n",
      "#closeNdigFib"
     ],
     "language": "python",
     "metadata": {},
     "outputs": [
      {
       "output_type": "pyout",
       "prompt_number": 16,
       "text": [
        "(4782,\n",
        " 1070066266382758936764980584457396885083683896632151665013235203375314520604694040621889147582489792657804694888177591957484336466672569959512996030461262748092482186144069433051234774442750273781753087579391666192149259186759553966422837148943113074699503439547001985432609723067290192870526447243726117715821825548491120525013201478612965931381792235559657452039506137551467837543229119602129934048260706175397706847068202895486902666185435124521900369480641357447470911707619766945691070098024393439617474103736912503231365532164773697023167755051595173518460579954919410967778373229665796581646513903488154256310184224190259846088000110186255550245493937113651657039447629584714548523425950428582425306083544435428212611008992863795048006894330309773217834864543113205765659868456288616808718693835297350643986297640660000723562917905207051164077614812491885830945940566688339109350944456576357666151619317753792891661581327159616877487983821820492520348473874384736771934512787029218636250627816L)"
       ]
      }
     ],
     "prompt_number": 16
    },
    {
     "cell_type": "code",
     "collapsed": false,
     "input": [
      "def nDigFib(n):\n",
      "    sp,sc,i= 1,1,2\n",
      "    while len(str(sc)) < n:\n",
      "        sp,sc = sc,sp+sc\n",
      "        i+=1\n",
      "    else: return i,sc\n",
      "'''    \n",
      "def closeNdigFib(n):\n",
      "    gr = (1+5**.5)/2\n",
      "    i=sc=1\n",
      "    while len(str(sc)) <n:\n",
      "        sc = round((gr**i - (-gr)**(-i))*5**(-.5))\n",
      "        i+=1\n",
      "    else: return i,sc\n",
      "    '''"
     ],
     "language": "python",
     "metadata": {},
     "outputs": [],
     "prompt_number": 14
    },
    {
     "cell_type": "code",
     "collapsed": false,
     "input": [],
     "language": "python",
     "metadata": {},
     "outputs": []
    }
   ],
   "metadata": {}
  }
 ]
}