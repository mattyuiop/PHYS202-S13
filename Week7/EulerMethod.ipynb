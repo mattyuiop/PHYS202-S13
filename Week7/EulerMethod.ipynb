{
 "metadata": {
  "name": "EulerMethod"
 },
 "nbformat": 3,
 "nbformat_minor": 0,
 "worksheets": [
  {
   "cells": [
    {
     "cell_type": "code",
     "collapsed": false,
     "input": [
      "import numpy as np\n",
      "#Euler:\n",
      "a = -9.8 #m S^-2\n",
      "tf = 10\n",
      "sO,vO = 0.0,0.0\n",
      "dt = .1\n",
      "v,s = vO,sO"
     ],
     "language": "python",
     "metadata": {},
     "outputs": [],
     "prompt_number": 22
    },
    {
     "cell_type": "code",
     "collapsed": false,
     "input": [
      "for i in arange(0,tf+dt,dt):\n",
      "    s = s + dt*v\n",
      "    v = v+dt*a\n",
      "    print s,v\n",
      "\n"
     ],
     "language": "python",
     "metadata": {},
     "outputs": [
      {
       "output_type": "stream",
       "stream": "stdout",
       "text": [
        "0.0 -0.98\n",
        "-0.098 -1.96\n",
        "-0.294 -2.94\n",
        "-0.588 -3.92\n",
        "-0.98 -4.9\n",
        "-1.47 -5.88\n",
        "-2.058 -6.86\n",
        "-2.744 -7.84\n",
        "-3.528 -8.82\n",
        "-4.41 -9.8\n",
        "-5.39 -10.78\n",
        "-6.468 -11.76\n",
        "-7.644 -12.74\n",
        "-8.918 -13.72\n",
        "-10.29 -14.7\n",
        "-11.76 -15.68\n",
        "-13.328 -16.66\n",
        "-14.994 -17.64\n",
        "-16.758 -18.62\n",
        "-18.62 -19.6\n",
        "-20.58 -20.58\n",
        "-22.638 -21.56\n",
        "-24.794 -22.54\n",
        "-27.048 -23.52\n",
        "-29.4 -24.5\n",
        "-31.85 -25.48\n",
        "-34.398 -26.46\n",
        "-37.044 -27.44\n",
        "-39.788 -28.42\n",
        "-42.63 -29.4\n",
        "-45.57 -30.38\n",
        "-48.608 -31.36\n",
        "-51.744 -32.34\n",
        "-54.978 -33.32\n",
        "-58.31 -34.3\n",
        "-61.74 -35.28\n",
        "-65.268 -36.26\n",
        "-68.894 -37.24\n",
        "-72.618 -38.22\n",
        "-76.44 -39.2\n",
        "-80.36 -40.18\n",
        "-84.378 -41.16\n",
        "-88.494 -42.14\n",
        "-92.708 -43.12\n",
        "-97.02 -44.1\n",
        "-101.43 -45.08\n",
        "-105.938 -46.06\n",
        "-110.544 -47.04\n",
        "-115.248 -48.02\n",
        "-120.05 -49.0\n",
        "-124.95 -49.98\n",
        "-129.948 -50.96\n",
        "-135.044 -51.94\n",
        "-140.238 -52.92\n",
        "-145.53 -53.9\n",
        "-150.92 -54.88\n",
        "-156.408 -55.86\n",
        "-161.994 -56.84\n",
        "-167.678 -57.82\n",
        "-173.46 -58.8\n",
        "-179.34 -59.78\n",
        "-185.318 -60.76\n",
        "-191.394 -61.74\n",
        "-197.568 -62.72\n",
        "-203.84 -63.7\n",
        "-210.21 -64.68\n",
        "-216.678 -65.66\n",
        "-223.244 -66.64\n",
        "-229.908 -67.62\n",
        "-236.67 -68.6\n",
        "-243.53 -69.58\n",
        "-250.488 -70.56\n",
        "-257.544 -71.54\n",
        "-264.698 -72.52\n",
        "-271.95 -73.5\n",
        "-279.3 -74.48\n",
        "-286.748 -75.46\n",
        "-294.294 -76.44\n",
        "-301.938 -77.42\n",
        "-309.68 -78.4\n",
        "-317.52 -79.38\n",
        "-325.458 -80.36\n",
        "-333.494 -81.34\n",
        "-341.628 -82.32\n",
        "-349.86 -83.3\n",
        "-358.19 -84.28\n",
        "-366.618 -85.26\n",
        "-375.144 -86.24\n",
        "-383.768 -87.22\n",
        "-392.49 -88.2\n",
        "-401.31 -89.18\n",
        "-410.228 -90.16\n",
        "-419.244 -91.14\n",
        "-428.358 -92.12\n",
        "-437.57 -93.1\n",
        "-446.88 -94.08\n",
        "-456.288 -95.06\n",
        "-465.794 -96.04\n",
        "-475.398 -97.02\n",
        "-485.1 -98.0\n",
        "-494.9 -98.98\n"
       ]
      }
     ],
     "prompt_number": 50
    },
    {
     "cell_type": "code",
     "collapsed": false,
     "input": [
      "#Euler-Cromer\n",
      "\n",
      "for i in arange(0,tf+dt,dt):\n",
      "    v = v+dt*a\n",
      "    s = s + dt*v\n",
      "    \n",
      "\n",
      "print s,v"
     ],
     "language": "python",
     "metadata": {},
     "outputs": [
      {
       "output_type": "stream",
       "stream": "stdout",
       "text": [
        "-504.798 -98.98\n"
       ]
      }
     ],
     "prompt_number": 18
    },
    {
     "cell_type": "markdown",
     "metadata": {},
     "source": [
      "#Exercise 1"
     ]
    },
    {
     "cell_type": "code",
     "collapsed": false,
     "input": [
      "# midpoint takes velocity average to compute next position\n",
      "\n",
      "#solve dy/dx = x+ 2y  or y = y' - x\n",
      "x= yi = yn= xn = np.zeros(100)\n",
      "#x = np.zeros(100)\n",
      "x[0] = 0\n",
      "dx = 0.25\n",
      "#y[1] = dx*(2*y[0] + x[0]) + y[0]\n",
      "for i in range(1,int(1+1./dx)):\n",
      "    x[i+1] = x[i] + dx\n",
      "    yi[i+1] = dx*(2*yi[i]+ x[i+1]) + yi[i]\n",
      "    \n",
      "\n",
      "dx = .02\n",
      "#y[2] = 2*.02 + .5*x[1] + y[1]\n",
      "\n",
      "for i in range(1,int(1+1./dx)):\n",
      "    yn[i+1] = dx*(2*yn[i]+ xn[i]) + yn[i]\n",
      "    xn[i+1] = xn[i] + dx\n",
      "\n",
      "xtest = arange(0, 1.4,.02)\n",
      "ytest = .25*exp(2*xtest) - 0.5*xtest - .25\n",
      "plot(xtest,ytest)\n",
      "plot(x,yi)\n",
      "plot(xn,yn)\n",
      "show()"
     ],
     "language": "python",
     "metadata": {},
     "outputs": [
      {
       "output_type": "display_data",
       "png": "[encoded data removed]"
      }
     ],
     "prompt_number": 56
    },
    {
     "cell_type": "code",
     "collapsed": false,
     "input": [],
     "language": "python",
     "metadata": {},
     "outputs": [],
     "prompt_number": 53
    },
    {
     "cell_type": "code",
     "collapsed": false,
     "input": [],
     "language": "python",
     "metadata": {},
     "outputs": []
    }
   ],
   "metadata": {}
  }
 ]
}