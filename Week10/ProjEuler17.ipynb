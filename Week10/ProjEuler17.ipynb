{
 "metadata": {
  "name": "ProjEuler17"
 },
 "nbformat": 3,
 "nbformat_minor": 0,
 "worksheets": [
  {
   "cells": [
    {
     "cell_type": "markdown",
     "metadata": {},
     "source": [
      "Findsum of all letters spelling a word. Find sum of all letters of all words spelling a numers 1 to n\n",
      "for values past 10^6 naming convention is Short Scale"
     ]
    },
    {
     "cell_type": "code",
     "collapsed": false,
     "input": [
      "val = [0,3,3,5,4,4,3,5,5,4,3,6,6, 8, 8, 7, 7, 9,9,8,6,6,6,5,5,7,6,6,7,8, 7, 7, 8, 11, 11] \n",
      "#corresponds to value of single value name one to twenty,thirty,fourty,fifty,sixty,seventy,eighty,ninty, \n",
      "#hundred@ val[28], thousand, million, billion, quintillion[10^18] @ 34\n",
      "def blThnd(n):\n",
      "    total = 0\n",
      "    if n>=100:\n",
      "        total += val[n/100] + val[28] #number + hundred\n",
      "        rem = n%100\n",
      "    else: rem = int(n)\n",
      "    if rem>19:\n",
      "        \n",
      "        total += val[rem/10 + 18] + val[rem%10]\n",
      "    elif n == 0: return 4\n",
      "    else:\n",
      "        total += val[rem]\n",
      "    return total\n",
      "def tenCubeSiev(n): \n",
      "    #breaks each 10**3 block into its own peice and adds million/billion count to total\n",
      "    n = int(n)\n",
      "    total = 0\n",
      "    if n >= 10**3:\n",
      "        for i in range(int( log(n)/log(10) /3) + 1):\n",
      "            block = (n % 10**(3*i+1)) * 10**( -3*i) \n",
      "            print block\n",
      "            if block > 0:\n",
      "                total += val[29 + i] + blThnd(block)\n",
      "    return total #still not working\n",
      "\n",
      "def thousandDown(n): #also counts spelling of zero works to 1000\n",
      "    total = 0\n",
      "    for i in range(n+1):\n",
      "        if n == 1000: total += val[29]\n",
      "        else:\n",
      "            total += blThnd(i)\n",
      "    return total\n",
      "        \n",
      "   "
     ],
     "language": "python",
     "metadata": {},
     "outputs": [],
     "prompt_number": 24
    },
    {
     "cell_type": "code",
     "collapsed": false,
     "input": [
      "#print [(i, val[i]) for i in range(len(val))]\n",
      "print thousandDown(1000)"
     ],
     "language": "python",
     "metadata": {},
     "outputs": [
      {
       "output_type": "stream",
       "stream": "stdout",
       "text": [
        "8008\n"
       ]
      }
     ],
     "prompt_number": 25
    },
    {
     "cell_type": "code",
     "collapsed": false,
     "input": [],
     "language": "python",
     "metadata": {},
     "outputs": []
    }
   ],
   "metadata": {}
  }
 ]
}